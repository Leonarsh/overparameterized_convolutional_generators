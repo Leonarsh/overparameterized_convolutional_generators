{
 "cells": [
  {
   "cell_type": "markdown",
   "metadata": {},
   "source": [
    "# Jacobian at initialization\n",
    "\n",
    "Here, we compute the norm of the product of the Jacobian at initialization with a signal and noise. For both deep decoder and deep image prior, this quantity is significantly smaller for noise than for a natural image. Thus, a natural image is better aligned with the leading singular vectors of the Jacobian than noise. This demonstrates that the Jacobian of the networks is approximately low-rank, with natural images lying in the space spanned by the leading singularvectors.\n",
    "\n",
    "Running the DIP part requires the models from [https://github.com/DmitryUlyanov/deep-image-prior](https://github.com/DmitryUlyanov/deep-image-prior)."
   ]
  },
  {
   "cell_type": "code",
   "execution_count": 1,
   "metadata": {},
   "outputs": [
    {
     "name": "stdout",
     "output_type": "stream",
     "text": [
      "num GPUs 1\n"
     ]
    }
   ],
   "source": [
    "from __future__ import print_function\n",
    "import matplotlib.pyplot as plt\n",
    "#%matplotlib notebook\n",
    "\n",
    "import os\n",
    "\n",
    "import warnings\n",
    "warnings.filterwarnings('ignore')\n",
    "\n",
    "from include import *\n",
    "from PIL import Image\n",
    "import PIL\n",
    "\n",
    "import numpy as np\n",
    "import torch\n",
    "import torch.optim\n",
    "from torch.autograd import Variable\n",
    "from models import *\n",
    "\n",
    "GPU = True\n",
    "if GPU == True:\n",
    "    torch.backends.cudnn.enabled = True\n",
    "    torch.backends.cudnn.benchmark = True\n",
    "    dtype = torch.cuda.FloatTensor\n",
    "    os.environ['CUDA_VISIBLE_DEVICES'] = '0'\n",
    "    print(\"num GPUs\",torch.cuda.device_count())\n",
    "else:\n",
    "    dtype = torch.FloatTensor\n"
   ]
  },
  {
   "cell_type": "markdown",
   "metadata": {},
   "source": [
    "## Load image"
   ]
  },
  {
   "cell_type": "code",
   "execution_count": 2,
   "metadata": {
    "scrolled": true
   },
   "outputs": [
    {
     "name": "stdout",
     "output_type": "stream",
     "text": [
      "torch.Size([1, 1, 256, 256])\n",
      "1.0\n"
     ]
    }
   ],
   "source": [
    "path = './test_data/'\n",
    "#img_name = \"astronaut\"\n",
    "#img_name = \"mri\"\n",
    "img_name = \"phantom256\"\n",
    "\n",
    "img_path = path + img_name + \".png\"\n",
    "img_pil = Image.open(img_path)\n",
    "\n",
    "#img_pil = load_and_crop(img_path,target_width=256,target_height=256)\n",
    "\n",
    "img_np = pil_to_np(img_pil)\n",
    "img_np = img_np / np.max(img_np)\n",
    "img_clean_var = np_to_var(img_np).type(dtype)\n",
    "print(img_clean_var.shape)\n",
    "print(np.max(img_np))"
   ]
  },
  {
   "cell_type": "markdown",
   "metadata": {},
   "source": [
    "## Functions to generate noisy image and noise"
   ]
  },
  {
   "cell_type": "code",
   "execution_count": 3,
   "metadata": {},
   "outputs": [
    {
     "name": "stdout",
     "output_type": "stream",
     "text": [
      "Image size:  (1, 256, 256)\n"
     ]
    },
    {
     "data": {
      "text/plain": [
       "(tensor(85.7806, device='cuda:0'), tensor(85.7806, device='cuda:0'))"
      ]
     },
     "execution_count": 3,
     "metadata": {},
     "output_type": "execute_result"
    }
   ],
   "source": [
    "def get_noisy_img(sig=30,noise_same = False):\n",
    "    sigma = sig/255.\n",
    "    if noise_same: # add the same noise in each channel\n",
    "        noise = np.random.normal(scale=sigma, size=img_np.shape[1:])\n",
    "        noise = np.array( [noise]*img_np.shape[0] )\n",
    "    else: # add independent noise in each channel\n",
    "        noise = np.random.normal(scale=sigma, size=img_np.shape)\n",
    "\n",
    "    img_noisy_np = np.clip( img_np + noise , 0, 1).astype(np.float32)\n",
    "    img_noisy_var = np_to_var(img_noisy_np).type(dtype)\n",
    "    return img_noisy_np,img_noisy_var\n",
    "\n",
    "def get_noise(sig=30,noise_same = False,sh=None):\n",
    "    sigma = sig/255.\n",
    "    if noise_same: # add the same noise in each channel\n",
    "        if sh is None:\n",
    "            sh = img_np.shape[1:]\n",
    "        noise = np.random.rand(sh[0],sh[1]) #np.random.normal(scale=sigma, size=img_np.shape[1:])\n",
    "        noise = np.array( [noise]*img_np.shape[0] )\n",
    "    else: # add independent noise in each channel\n",
    "        if sh is None:\n",
    "            sh = img_np.shape\n",
    "        noise = np.random.rand(sh[0],sh[1],sh[2]) # np.random.normal(scale=sigma, size=img_np.shape)\n",
    "\n",
    "    img_noisy_np = np.clip( noise , 0, 1).astype(np.float32)\n",
    "    img_noisy_var = np_to_var(img_noisy_np).type(dtype)\n",
    "    return img_noisy_np,img_noisy_var\n",
    "\n",
    "img_noisy_np,img_noisy_var = get_noisy_img()  \n",
    "output_depth = img_np.shape[0] \n",
    "print(\"Image size: \", img_np.shape)\n",
    "\n",
    "img_np, img_var = get_noise(sig=30,noise_same = False,sh=None)\n",
    "# make sure the norm is the same\n",
    "img_var *= torch.norm(img_clean_var)/torch.norm(img_var) \n",
    "\n",
    "torch.norm(img_var), torch.norm(img_clean_var)"
   ]
  },
  {
   "cell_type": "code",
   "execution_count": 4,
   "metadata": {},
   "outputs": [],
   "source": [
    "numit = 5000"
   ]
  },
  {
   "cell_type": "code",
   "execution_count": 5,
   "metadata": {},
   "outputs": [],
   "source": [
    "def tikz_hist(res,bins=100,filename=\"data.csv\"):\n",
    "    hist = plt.hist(res,normed=True, bins=bins)\n",
    "    plt.show()\n",
    "    x = np.array([ (hist[1][i] + hist[1][i+1])/2 for i in range(bins) ])\n",
    "    y = np.array(hist[0])\n",
    "    np.savetxt(filename, np.vstack([ x , y ]).T , delimiter=\"\\t\")"
   ]
  },
  {
   "cell_type": "markdown",
   "metadata": {},
   "source": [
    "## Jacobian"
   ]
  },
  {
   "cell_type": "code",
   "execution_count": 6,
   "metadata": {},
   "outputs": [
    {
     "name": "stdout",
     "output_type": "stream",
     "text": [
      "input shape:  [1, 256, 16, 16]\n"
     ]
    }
   ],
   "source": [
    "num_channels = [256]*4\n",
    "\n",
    "def get_net_input(num_channels=[256]*4,upsample=True):\n",
    "    if upsample:\n",
    "        totalupsample = 2**len(num_channels)\n",
    "    else:\n",
    "        totalupsample = 1\n",
    "    width = int(img_clean_var.data.shape[2]/totalupsample)\n",
    "    height = int(img_clean_var.data.shape[3]/totalupsample)\n",
    "    shape = [1,num_channels[0], width, height]\n",
    "    print(\"input shape: \", shape)\n",
    "    net_input = Variable(torch.zeros(shape)).type(dtype)\n",
    "    net_input.data.uniform_()\n",
    "    net_input.data *= 1./10\n",
    "    return net_input\n",
    "\n",
    "net_input = get_net_input(num_channels)"
   ]
  },
  {
   "cell_type": "code",
   "execution_count": 7,
   "metadata": {},
   "outputs": [],
   "source": [
    "def get_jacobian(net, x, noutputs):\n",
    "    x = x.squeeze()\n",
    "    n = x.size()[0]\n",
    "    x = x.repeat(noutputs, 1)\n",
    "    x.requires_grad_(True)\n",
    "    y = net(x)\n",
    "    y.backward(torch.eye(noutputs))\n",
    "    return x.grad.data"
   ]
  },
  {
   "cell_type": "code",
   "execution_count": 8,
   "metadata": {},
   "outputs": [],
   "source": [
    "def grad_norm(net):  \n",
    "    # returns the norm of the gradient corresponding to the convolutional parameters\n",
    "    \n",
    "    # count number of convolutional layers\n",
    "    nconvnets = 0\n",
    "    for p in list(filter(lambda p: len(p.data.shape)>2, net.parameters())):\n",
    "        nconvnets += 1\n",
    "    \n",
    "    out_grads = np.zeros(nconvnets)\n",
    "    p = [x for x in net.parameters() ]\n",
    "    for ind,p in enumerate(list(filter(lambda p: p.grad is not None and len(p.data.shape)>2, net.parameters()))):\n",
    "        out_grads[ind] = p.grad.data.norm(2).item()\n",
    "\n",
    "    return np.linalg.norm( out_grads )    \n",
    "\n",
    "def get_jacobinanprodsDD(img_var,numit=100):\n",
    "    res = []\n",
    "    for i in range(numit):\n",
    "        net = decodernw(1,num_channels_up=num_channels).type(dtype)\n",
    "        out = net(net_input).type(dtype)\n",
    "        out.backward( img_var )\n",
    "        res += [grad_norm(net)]\n",
    "    return res"
   ]
  },
  {
   "cell_type": "code",
   "execution_count": 9,
   "metadata": {},
   "outputs": [
    {
     "data": {
      "image/png": "[encoded data removed]",
      "text/plain": [
       "<Figure size 432x288 with 1 Axes>"
      ]
     },
     "metadata": {
      "needs_background": "light"
     },
     "output_type": "display_data"
    }
   ],
   "source": [
    "imgjprods = get_jacobinanprodsDD(img_clean_var,numit=numit)\n",
    "\n",
    "tikz_hist(imgjprods,bins=50,filename=\"JacobianCleanImg.csv\")"
   ]
  },
  {
   "cell_type": "code",
   "execution_count": 10,
   "metadata": {},
   "outputs": [
    {
     "data": {
      "image/png": "[encoded data removed]",
      "text/plain": [
       "<Figure size 432x288 with 1 Axes>"
      ]
     },
     "metadata": {
      "needs_background": "light"
     },
     "output_type": "display_data"
    }
   ],
   "source": [
    "imgjprods = get_jacobinanprodsDD(img_var,numit=numit)\n",
    "\n",
    "tikz_hist(imgjprods,bins=50,filename=\"JacobianNoiseImg.csv\")"
   ]
  },
  {
   "cell_type": "markdown",
   "metadata": {},
   "source": [
    "## DIP"
   ]
  },
  {
   "cell_type": "code",
   "execution_count": 11,
   "metadata": {},
   "outputs": [
    {
     "name": "stdout",
     "output_type": "stream",
     "text": [
      "input shape:  [1, 32, 256, 256]\n"
     ]
    }
   ],
   "source": [
    "num_channels = [32]*5\n",
    "net_input = get_net_input(num_channels,False)\n",
    "\n",
    "def get_jacobinanprodsDIP(img_var,numit=numit):\n",
    "    res = []\n",
    "    for i in range(numit):        \n",
    "        net = get_net(32, 'skip', 'reflection',n_channels=output_depth,skip_n33d=128,\n",
    "              skip_n33u=128,skip_n11=4,num_scales=5,upsample_mode='bilinear').type(dtype)   \n",
    "        out = net(net_input).type(dtype)\n",
    "        out.backward( img_var )\n",
    "        res += [grad_norm(net)]\n",
    "    return res"
   ]
  },
  {
   "cell_type": "code",
   "execution_count": 12,
   "metadata": {},
   "outputs": [
    {
     "data": {
      "image/png": "[encoded data removed]",
      "text/plain": [
       "<Figure size 432x288 with 1 Axes>"
      ]
     },
     "metadata": {
      "needs_background": "light"
     },
     "output_type": "display_data"
    }
   ],
   "source": [
    "imgjprods = get_jacobinanprodsDIP(img_clean_var,numit=numit)\n",
    "\n",
    "tikz_hist(imgjprods,bins=50,filename=\"JacobianCleanImgDIP.csv\")"
   ]
  },
  {
   "cell_type": "code",
   "execution_count": 13,
   "metadata": {},
   "outputs": [
    {
     "data": {
      "image/png": "[encoded data removed]",
      "text/plain": [
       "<Figure size 432x288 with 1 Axes>"
      ]
     },
     "metadata": {
      "needs_background": "light"
     },
     "output_type": "display_data"
    }
   ],
   "source": [
    "imgjprods = get_jacobinanprodsDIP(img_var,numit=numit)\n",
    "\n",
    "tikz_hist(imgjprods,bins=50,filename=\"JacobianNoiseImgDIP.csv\")"
   ]
  }
 ],
 "metadata": {
  "kernelspec": {
   "display_name": "Python 3",
   "language": "python",
   "name": "python3"
  },
  "language_info": {
   "codemirror_mode": {
    "name": "ipython",
    "version": 3
   },
   "file_extension": ".py",
   "mimetype": "text/x-python",
   "name": "python",
   "nbconvert_exporter": "python",
   "pygments_lexer": "ipython3",
   "version": "3.6.7"
  }
 },
 "nbformat": 4,
 "nbformat_minor": 2
}
